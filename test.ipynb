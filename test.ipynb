{
 "cells": [
  {
   "cell_type": "code",
   "execution_count": 3,
   "metadata": {},
   "outputs": [
    {
     "name": "stderr",
     "output_type": "stream",
     "text": [
      "c:\\Users\\Admin\\AppData\\Local\\Programs\\Python\\Python310\\lib\\site-packages\\tqdm\\auto.py:21: TqdmWarning: IProgress not found. Please update jupyter and ipywidgets. See https://ipywidgets.readthedocs.io/en/stable/user_install.html\n",
      "  from .autonotebook import tqdm as notebook_tqdm\n"
     ]
    }
   ],
   "source": [
    "import pandas as pd\n",
    "import torch\n",
    "import json\n",
    "import numpy as np\n",
    "import time\n",
    "from code.bm25.bm25_utilities import BM25Utilities\n",
    "from code.encoder.encoder_utilities import EncoderUtilities\n",
    "from code.reciprocal_rank_fusion.reciprocal_rank_fusion_utilities import calculate_rrf_ranking\n",
    "from sentence_transformers import SentenceTransformer\n",
    "from qdrant_client import QdrantClient"
   ]
  },
  {
   "cell_type": "code",
   "execution_count": 4,
   "metadata": {},
   "outputs": [
    {
     "name": "stdout",
     "output_type": "stream",
     "text": [
      "Using CPU\n"
     ]
    }
   ],
   "source": [
    "if torch.cuda.is_available():\n",
    "    device = torch.device(\"cuda\")\n",
    "    print(\"Using GPU\")\n",
    "else:\n",
    "    device = torch.device(\"cpu\")\n",
    "    print(\"Using CPU\")"
   ]
  },
  {
   "cell_type": "markdown",
   "metadata": {},
   "source": [
    "**Data**"
   ]
  },
  {
   "cell_type": "code",
   "execution_count": 5,
   "metadata": {},
   "outputs": [],
   "source": [
    "test_df = pd.read_csv('rdr_test_qna.csv')\n",
    "corpus_df = pd.read_csv('rdrsegmenter_legal_corpus.csv')"
   ]
  },
  {
   "cell_type": "code",
   "execution_count": 6,
   "metadata": {},
   "outputs": [
    {
     "data": {
      "text/html": [
       "<div>\n",
       "<style scoped>\n",
       "    .dataframe tbody tr th:only-of-type {\n",
       "        vertical-align: middle;\n",
       "    }\n",
       "\n",
       "    .dataframe tbody tr th {\n",
       "        vertical-align: top;\n",
       "    }\n",
       "\n",
       "    .dataframe thead th {\n",
       "        text-align: right;\n",
       "    }\n",
       "</style>\n",
       "<table border=\"1\" class=\"dataframe\">\n",
       "  <thead>\n",
       "    <tr style=\"text-align: right;\">\n",
       "      <th></th>\n",
       "      <th>question_id</th>\n",
       "      <th>relevant_articles</th>\n",
       "      <th>segmented_question</th>\n",
       "    </tr>\n",
       "  </thead>\n",
       "  <tbody>\n",
       "    <tr>\n",
       "      <th>0</th>\n",
       "      <td>8e2cfe626cebf209f94e0db8f147960c</td>\n",
       "      <td>['28/2020/nđ-cp%21']</td>\n",
       "      <td>mức xử_phạt đối_với hành_vi không tổ_chức khám...</td>\n",
       "    </tr>\n",
       "    <tr>\n",
       "      <th>1</th>\n",
       "      <td>0a32724630653580cc90c77bcf552baf</td>\n",
       "      <td>['64/2020/qh14%97']</td>\n",
       "      <td>tranh_chấp giữa cơ_quan ký_kết hợp_đồng dự_án ...</td>\n",
       "    </tr>\n",
       "    <tr>\n",
       "      <th>2</th>\n",
       "      <td>e66ae5eecc1672bac2c5799673666bda</td>\n",
       "      <td>['26/2019/nđ-cp%28']</td>\n",
       "      <td>trình_tự cấp , cấp lại giấy chứng_nhận đủ điều...</td>\n",
       "    </tr>\n",
       "    <tr>\n",
       "      <th>3</th>\n",
       "      <td>6b815a5b10736472101034aa8bd58146</td>\n",
       "      <td>['59/2020/qh14%180']</td>\n",
       "      <td>thành_viên hợp danh thì có được làm chủ doanh_...</td>\n",
       "    </tr>\n",
       "    <tr>\n",
       "      <th>4</th>\n",
       "      <td>4d4ed6ef19708f3e18fef48e4786a06e</td>\n",
       "      <td>['01/2016/qh14%12']</td>\n",
       "      <td>luật_sư có được miễn đào_tạo nghề đấu_giá hay ...</td>\n",
       "    </tr>\n",
       "  </tbody>\n",
       "</table>\n",
       "</div>"
      ],
      "text/plain": [
       "                        question_id     relevant_articles  \\\n",
       "0  8e2cfe626cebf209f94e0db8f147960c  ['28/2020/nđ-cp%21']   \n",
       "1  0a32724630653580cc90c77bcf552baf   ['64/2020/qh14%97']   \n",
       "2  e66ae5eecc1672bac2c5799673666bda  ['26/2019/nđ-cp%28']   \n",
       "3  6b815a5b10736472101034aa8bd58146  ['59/2020/qh14%180']   \n",
       "4  4d4ed6ef19708f3e18fef48e4786a06e   ['01/2016/qh14%12']   \n",
       "\n",
       "                                  segmented_question  \n",
       "0  mức xử_phạt đối_với hành_vi không tổ_chức khám...  \n",
       "1  tranh_chấp giữa cơ_quan ký_kết hợp_đồng dự_án ...  \n",
       "2  trình_tự cấp , cấp lại giấy chứng_nhận đủ điều...  \n",
       "3  thành_viên hợp danh thì có được làm chủ doanh_...  \n",
       "4  luật_sư có được miễn đào_tạo nghề đấu_giá hay ...  "
      ]
     },
     "execution_count": 6,
     "metadata": {},
     "output_type": "execute_result"
    }
   ],
   "source": [
    "test_df.head()"
   ]
  },
  {
   "cell_type": "code",
   "execution_count": 7,
   "metadata": {},
   "outputs": [
    {
     "data": {
      "text/html": [
       "<div>\n",
       "<style scoped>\n",
       "    .dataframe tbody tr th:only-of-type {\n",
       "        vertical-align: middle;\n",
       "    }\n",
       "\n",
       "    .dataframe tbody tr th {\n",
       "        vertical-align: top;\n",
       "    }\n",
       "\n",
       "    .dataframe thead th {\n",
       "        text-align: right;\n",
       "    }\n",
       "</style>\n",
       "<table border=\"1\" class=\"dataframe\">\n",
       "  <thead>\n",
       "    <tr style=\"text-align: right;\">\n",
       "      <th></th>\n",
       "      <th>Unnamed: 0</th>\n",
       "      <th>index</th>\n",
       "      <th>article_title</th>\n",
       "      <th>content</th>\n",
       "      <th>law_article_id</th>\n",
       "      <th>processed_title</th>\n",
       "      <th>processed_splitted_content</th>\n",
       "      <th>segmented_title_content</th>\n",
       "    </tr>\n",
       "  </thead>\n",
       "  <tbody>\n",
       "    <tr>\n",
       "      <th>0</th>\n",
       "      <td>0</td>\n",
       "      <td>0</td>\n",
       "      <td>Điều 1. Phạm vi áp dụng</td>\n",
       "      <td>thông tư này hướng dẫn tuần tra, canh gác bảo ...</td>\n",
       "      <td>{'law_id': '01/2009/tt-bnn', 'article_id': '1'}</td>\n",
       "      <td>phạm vi áp dụng</td>\n",
       "      <td>phạm vi áp dụng: thông tư này hướng dẫn tuần t...</td>\n",
       "      <td>phạm_vi áp_dụng : thông_tư này hướng_dẫn tuần_...</td>\n",
       "    </tr>\n",
       "    <tr>\n",
       "      <th>1</th>\n",
       "      <td>1</td>\n",
       "      <td>1</td>\n",
       "      <td>Điều 2. Tổ chức lực lượng</td>\n",
       "      <td>khoản 1. hàng năm trước mùa mưa, lũ, ủy ban n...</td>\n",
       "      <td>{'law_id': '01/2009/tt-bnn', 'article_id': '2'}</td>\n",
       "      <td>tổ chức lực lượng</td>\n",
       "      <td>khoản 1. hàng năm trước mùa mưa, lũ, ủy ban n...</td>\n",
       "      <td>khoản 1 . hàng năm trước mùa mưa , lũ , uỷ_ban...</td>\n",
       "    </tr>\n",
       "    <tr>\n",
       "      <th>2</th>\n",
       "      <td>2</td>\n",
       "      <td>2</td>\n",
       "      <td>Điều 2. Tổ chức lực lượng</td>\n",
       "      <td>khoản 2. lực lượng tuần tra, canh gác đê được...</td>\n",
       "      <td>{'law_id': '01/2009/tt-bnn', 'article_id': '2'}</td>\n",
       "      <td>tổ chức lực lượng</td>\n",
       "      <td>tổ chức lực lượng:  khoản 2. lực lượng tuần tr...</td>\n",
       "      <td>tổ_chức lực_lượng : khoản 2 . lực_lượng tuần_t...</td>\n",
       "    </tr>\n",
       "    <tr>\n",
       "      <th>3</th>\n",
       "      <td>3</td>\n",
       "      <td>3</td>\n",
       "      <td>Điều 2. Tổ chức lực lượng</td>\n",
       "      <td>khoản 3. khi lũ, bão có diễn biến phức tạp, k...</td>\n",
       "      <td>{'law_id': '01/2009/tt-bnn', 'article_id': '2'}</td>\n",
       "      <td>tổ chức lực lượng</td>\n",
       "      <td>tổ chức lực lượng:  khoản 3. khi lũ, bão có di...</td>\n",
       "      <td>tổ_chức lực_lượng : khoản 3 . khi lũ , bão có ...</td>\n",
       "    </tr>\n",
       "    <tr>\n",
       "      <th>4</th>\n",
       "      <td>4</td>\n",
       "      <td>4</td>\n",
       "      <td>Điều 3. Tiêu chuẩn của các thành viên thuộc lự...</td>\n",
       "      <td>khoản 1. là người khoẻ mạnh, tháo vát, đủ khả...</td>\n",
       "      <td>{'law_id': '01/2009/tt-bnn', 'article_id': '3'}</td>\n",
       "      <td>tiêu chuẩn của các thành viên thuộc lực lượng ...</td>\n",
       "      <td>tiêu chuẩn của các thành viên thuộc lực lượng ...</td>\n",
       "      <td>tiêu_chuẩn của các thành_viên thuộc lực_lượng ...</td>\n",
       "    </tr>\n",
       "  </tbody>\n",
       "</table>\n",
       "</div>"
      ],
      "text/plain": [
       "   Unnamed: 0  index                                      article_title  \\\n",
       "0           0      0                            Điều 1. Phạm vi áp dụng   \n",
       "1           1      1                          Điều 2. Tổ chức lực lượng   \n",
       "2           2      2                          Điều 2. Tổ chức lực lượng   \n",
       "3           3      3                          Điều 2. Tổ chức lực lượng   \n",
       "4           4      4  Điều 3. Tiêu chuẩn của các thành viên thuộc lự...   \n",
       "\n",
       "                                             content  \\\n",
       "0  thông tư này hướng dẫn tuần tra, canh gác bảo ...   \n",
       "1   khoản 1. hàng năm trước mùa mưa, lũ, ủy ban n...   \n",
       "2   khoản 2. lực lượng tuần tra, canh gác đê được...   \n",
       "3   khoản 3. khi lũ, bão có diễn biến phức tạp, k...   \n",
       "4   khoản 1. là người khoẻ mạnh, tháo vát, đủ khả...   \n",
       "\n",
       "                                    law_article_id  \\\n",
       "0  {'law_id': '01/2009/tt-bnn', 'article_id': '1'}   \n",
       "1  {'law_id': '01/2009/tt-bnn', 'article_id': '2'}   \n",
       "2  {'law_id': '01/2009/tt-bnn', 'article_id': '2'}   \n",
       "3  {'law_id': '01/2009/tt-bnn', 'article_id': '2'}   \n",
       "4  {'law_id': '01/2009/tt-bnn', 'article_id': '3'}   \n",
       "\n",
       "                                     processed_title  \\\n",
       "0                                    phạm vi áp dụng   \n",
       "1                                  tổ chức lực lượng   \n",
       "2                                  tổ chức lực lượng   \n",
       "3                                  tổ chức lực lượng   \n",
       "4  tiêu chuẩn của các thành viên thuộc lực lượng ...   \n",
       "\n",
       "                          processed_splitted_content  \\\n",
       "0  phạm vi áp dụng: thông tư này hướng dẫn tuần t...   \n",
       "1   khoản 1. hàng năm trước mùa mưa, lũ, ủy ban n...   \n",
       "2  tổ chức lực lượng:  khoản 2. lực lượng tuần tr...   \n",
       "3  tổ chức lực lượng:  khoản 3. khi lũ, bão có di...   \n",
       "4  tiêu chuẩn của các thành viên thuộc lực lượng ...   \n",
       "\n",
       "                             segmented_title_content  \n",
       "0  phạm_vi áp_dụng : thông_tư này hướng_dẫn tuần_...  \n",
       "1  khoản 1 . hàng năm trước mùa mưa , lũ , uỷ_ban...  \n",
       "2  tổ_chức lực_lượng : khoản 2 . lực_lượng tuần_t...  \n",
       "3  tổ_chức lực_lượng : khoản 3 . khi lũ , bão có ...  \n",
       "4  tiêu_chuẩn của các thành_viên thuộc lực_lượng ...  "
      ]
     },
     "execution_count": 7,
     "metadata": {},
     "output_type": "execute_result"
    }
   ],
   "source": [
    "corpus_df.head()"
   ]
  },
  {
   "cell_type": "code",
   "execution_count": 8,
   "metadata": {},
   "outputs": [
    {
     "name": "stdout",
     "output_type": "stream",
     "text": [
      "640\n",
      "391391\n"
     ]
    }
   ],
   "source": [
    "print(len(test_df))\n",
    "print(len(corpus_df))"
   ]
  },
  {
   "cell_type": "code",
   "execution_count": 9,
   "metadata": {},
   "outputs": [],
   "source": [
    "corpus = corpus_df['segmented_title_content'].tolist()"
   ]
  },
  {
   "cell_type": "code",
   "execution_count": 10,
   "metadata": {},
   "outputs": [
    {
     "name": "stdout",
     "output_type": "stream",
     "text": [
      "BM25Utilities initializing...\n"
     ]
    }
   ],
   "source": [
    "bm25_util = BM25Utilities(bm25_text=corpus)\n",
    "rank = bm25_util.get_bm25_ranking(query=test_df['segmented_question'][0])"
   ]
  },
  {
   "cell_type": "code",
   "execution_count": 11,
   "metadata": {},
   "outputs": [
    {
     "name": "stdout",
     "output_type": "stream",
     "text": [
      "[ 32581 134103 385160 ... 124283 124284 195695]\n"
     ]
    }
   ],
   "source": [
    "print(rank)"
   ]
  },
  {
   "cell_type": "code",
   "execution_count": 29,
   "metadata": {},
   "outputs": [],
   "source": [
    "class CorpusDataset:\n",
    "    def __init__(self,\n",
    "                 corpus_df, \n",
    "                 url = 'https://4d31c99a-9390-4174-8547-167526f0138b.europe-west3-0.gcp.cloud.qdrant.io:6333',\n",
    "                 api_key = 'WcOwiXDWcFcKJBXkI2zH9LHQ2he0npQNkYTEmS84UGx4kcLwRbMVKg'):\n",
    "        self.url =url\n",
    "        self.api_key = api_key\n",
    "        self.collection_name = 'embedding_legal_1'\n",
    "        self.corpus_df = corpus_df\n",
    "        self.client = QdrantClient(url=self.url, api_key=self.api_key)\n",
    "        self.model = SentenceTransformer('bkai-foundation-models/vietnamese-bi-encoder')\n",
    "\n",
    "    def encode(self, text):\n",
    "        return self.model.encode([text])[0]\n",
    "    \n",
    "    def query(self, segmented_question, topk=10):\n",
    "        wait = 0.1\n",
    "        while True:\n",
    "            try:\n",
    "                results = self.client.search(\n",
    "                            collection_name = self.collection_name,\n",
    "                            query_vector=self.encode(segmented_question),\n",
    "                            limit=topk,\n",
    "                        )\n",
    "                break\n",
    "            except:\n",
    "                time.sleep(wait)\n",
    "                wait*=2\n",
    "        \n",
    "        content_results = {}\n",
    "        for point in results:\n",
    "            law_id = point.payload['law_article_id']['law_id']\n",
    "            article_id = point.payload['law_article_id']['article_id']\n",
    "            key = law_id + '%' + article_id\n",
    "            if key not in content_results:\n",
    "                content_results[key] = [point.id]\n",
    "            else:  \n",
    "                content_results[key].append(point.id)\n",
    "        return content_results\n",
    "    \n",
    "    def get_id(self, point_id):\n",
    "        law_article_id = self.corpus_df.iloc[point_id]['law_article_id']\n",
    "        law_article_id = eval(law_article_id)\n",
    "        return law_article_id['law_id'] +'%'+ law_article_id['article_id']"
   ]
  },
  {
   "cell_type": "code",
   "execution_count": 30,
   "metadata": {},
   "outputs": [
    {
     "name": "stdout",
     "output_type": "stream",
     "text": [
      "01/2009/tt-bnn%2\n"
     ]
    }
   ],
   "source": [
    "corpus_dataset = CorpusDataset(corpus_df=corpus_df)\n",
    "print(corpus_dataset.get_id(1))"
   ]
  },
  {
   "cell_type": "code",
   "execution_count": 38,
   "metadata": {},
   "outputs": [],
   "source": [
    "class HybridSearch:\n",
    "    def __init__(self, query_df, corpus_df, topk=[1,10,100]):\n",
    "        self.query_df = query_df\n",
    "        self.corpus_df = corpus_df\n",
    "        self.corpus =  corpus_df['segmented_title_content'].tolist()\n",
    "        self.topk = topk\n",
    "        self.bm25_util = BM25Utilities(bm25_text=self.corpus)\n",
    "        self.corpus_util = CorpusDataset(self.corpus_df)\n",
    "\n",
    "    def get_bm25_rank(self, query, topk):\n",
    "        return self.bm25_util.get_bm25_ranking(query=query)[:topk]\n",
    "    \n",
    "    def get_cosine_rank(self, query, topk):\n",
    "        rank = self.corpus_util.query(query, topk=topk)\n",
    "        res = []\n",
    "        for i in rank.values():\n",
    "            res.extend(i)\n",
    "        return np.array(res)\n",
    "    \n",
    "    def get_rrf_rank(self, query, topk):\n",
    "        bm25_rank = self.get_bm25_rank(query, topk)\n",
    "        cosine_rank = self.get_cosine_rank(query, topk)\n",
    "        res = calculate_rrf_ranking(bm25_rank, cosine_rank)\n",
    "        return res\n",
    "    \n",
    "    def get_rerank(self, rrf_rank, bm25_rank):\n",
    "        rrf_rank = [int(i) for i in rrf_rank]\n",
    "        rerank = bm25_rank[rrf_rank][::-1]\n",
    "        return rerank\n",
    "    \n",
    "    def get_law_article_id(self, rerank):\n",
    "        res = []\n",
    "        for point_id in rerank:\n",
    "            law_article_id = self.corpus_util.get_id(point_id)\n",
    "            if law_article_id not in res:\n",
    "                res.append(law_article_id)\n",
    "        return res\n",
    "        \n",
    "    def test(self):\n",
    "        for k in self.topk:\n",
    "            res={}\n",
    "            for i in range(len(self.query_df)):\n",
    "                query = self.query_df['segmented_question'][i]\n",
    "                query_id  = self.query_df['question_id'][i]\n",
    "                bm25_rank = self.get_bm25_rank(query, k)\n",
    "                cosine_rank = self.get_cosine_rank(query, k)\n",
    "                rrf_rank = self.get_rrf_rank(query, k)\n",
    "                rerank = self.get_rerank(rrf_rank, bm25_rank)\n",
    "                law_article_id = self.get_law_article_id(rerank)\n",
    "                res[query_id] = law_article_id\n",
    "            with open('result_'+str(k)+'.json', 'w') as f:\n",
    "                json.dump(res, f)\n",
    "\n",
    "    "
   ]
  },
  {
   "cell_type": "code",
   "execution_count": 37,
   "metadata": {},
   "outputs": [
    {
     "name": "stdout",
     "output_type": "stream",
     "text": [
      "BM25Utilities initializing...\n",
      "['71/2019/nđ-cp%65', '96/2020/nđ-cp%12', '05/2019/tt-btc%80', '128/2020/nđ-cp%32', '1498/2005/qđ-nhnn%2', '155/2018/nđ-cp%143', '239/2009/ttlt-btc-vksndtc-tandtc%1', '06/2020/tt-nhnn%3']\n"
     ]
    }
   ],
   "source": [
    "hybrid = HybridSearch(test_df['segmented_question'], corpus_df=corpus_df)\n",
    "rrf_rank = hybrid.get_rrf_rank(test_df['segmented_question'][0], topk=10)\n",
    "rerank = hybrid.get_rerank(rrf_rank, hybrid.get_bm25_rank(test_df['segmented_question'][0]))\n",
    "print(hybrid.get_law_article_id(rerank))"
   ]
  },
  {
   "cell_type": "code",
   "execution_count": 21,
   "metadata": {},
   "outputs": [
    {
     "name": "stdout",
     "output_type": "stream",
     "text": [
      "[ 32581 134103 385160  32580  32579 145387 210248 107991  38825 342828]\n"
     ]
    }
   ],
   "source": []
  },
  {
   "cell_type": "code",
   "execution_count": null,
   "metadata": {},
   "outputs": [],
   "source": []
  }
 ],
 "metadata": {
  "kernelspec": {
   "display_name": "Python 3",
   "language": "python",
   "name": "python3"
  },
  "language_info": {
   "codemirror_mode": {
    "name": "ipython",
    "version": 3
   },
   "file_extension": ".py",
   "mimetype": "text/x-python",
   "name": "python",
   "nbconvert_exporter": "python",
   "pygments_lexer": "ipython3",
   "version": "3.10.4"
  }
 },
 "nbformat": 4,
 "nbformat_minor": 2
}
