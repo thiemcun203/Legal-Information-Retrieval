{
 "cells": [
  {
   "cell_type": "code",
   "execution_count": 1,
   "metadata": {},
   "outputs": [],
   "source": [
    "from pyvi.ViTokenizer import tokenize\n",
    "import re, os, string\n",
    "import pandas as pd\n",
    "import math\n",
    "import numpy as np\n",
    "import pickle"
   ]
  },
  {
   "cell_type": "code",
   "execution_count": 2,
   "metadata": {},
   "outputs": [
    {
     "data": {
      "text/plain": [
       "' Process corpus and text for BM25 and then load to file for later use: '"
      ]
     },
     "execution_count": 2,
     "metadata": {},
     "output_type": "execute_result"
    }
   ],
   "source": [
    "\"\"\" Process corpus and text for BM25 and then load to file for later use: \"\"\"\n",
    "\n",
    "# path_to_corpus = 'input\\legal_corpus_splitted.csv'\n",
    "# corpus = pd.read_csv(path_to_corpus)\n",
    "# corpus = corpus.dropna(subset=['content'])\n",
    "# corpus.loc[:, 'law_article'] = corpus.apply(lambda row: {'law_id': row['law_title'], 'article_id': str(row['article_id'])}, axis=1) \n",
    "# corpus['content'] = corpus['content'].apply(lambda x: remove_stopword(normalize_text(word_segment(clean_text(x)))))\n",
    "# corpus.to_csv('corpus.csv')\n",
    "\n",
    "# texts = [\n",
    "#     [word for word in document.lower().split() if word not in list_stopwords]\n",
    "#     for document in corpus['content']\n",
    "# ]\n",
    "# pickle.dump(texts, \"text\")"
   ]
  },
  {
   "cell_type": "code",
   "execution_count": 4,
   "metadata": {},
   "outputs": [
    {
     "name": "stderr",
     "output_type": "stream",
     "text": [
      "c:\\Users\\toant\\anaconda3\\envs\\nlp\\Lib\\site-packages\\cupy\\_environment.py:216: UserWarning: CUDA path could not be detected. Set CUDA_PATH environment variable if CuPy fails to load.\n",
      "  warnings.warn(\n"
     ]
    }
   ],
   "source": [
    "import pandas as pd\n",
    "from tqdm.auto import tqdm\n",
    "tqdm.pandas()\n",
    "\n",
    "from sentence_transformers import SentenceTransformer\n",
    "import cupy as cp\n",
    "import numpy as np\n",
    "\n",
    "import torch\n",
    "device = \"cuda:0\" if torch.cuda.is_available() else \"cpu\" "
   ]
  },
  {
   "cell_type": "code",
   "execution_count": 9,
   "metadata": {},
   "outputs": [],
   "source": [
    "import pandas as pd\n",
    "train_qna = pd.read_csv(\"input/train_qna.csv\")\n",
    "bm25_train_qna = pd.read_hdf(\"bm25_train_qna.h5\")\n",
    "cos_sim_train_qna = pd.read_hdf(\"cos_sim_train_qna_encode.h5\")\n",
    "train_qna['bm25_query'] = bm25_train_qna['bm25_query']\n",
    "train_qna['vector'] = cos_sim_train_qna['vector']"
   ]
  },
  {
   "cell_type": "code",
   "execution_count": 10,
   "metadata": {},
   "outputs": [
    {
     "data": {
      "text/html": [
       "<div>\n",
       "<style scoped>\n",
       "    .dataframe tbody tr th:only-of-type {\n",
       "        vertical-align: middle;\n",
       "    }\n",
       "\n",
       "    .dataframe tbody tr th {\n",
       "        vertical-align: top;\n",
       "    }\n",
       "\n",
       "    .dataframe thead th {\n",
       "        text-align: right;\n",
       "    }\n",
       "</style>\n",
       "<table border=\"1\" class=\"dataframe\">\n",
       "  <thead>\n",
       "    <tr style=\"text-align: right;\">\n",
       "      <th></th>\n",
       "      <th>question_id</th>\n",
       "      <th>question</th>\n",
       "      <th>relevant_articles</th>\n",
       "      <th>question_length</th>\n",
       "      <th>num_articles</th>\n",
       "      <th>relevant_titles</th>\n",
       "      <th>bm25_query</th>\n",
       "      <th>vector</th>\n",
       "    </tr>\n",
       "  </thead>\n",
       "  <tbody>\n",
       "    <tr>\n",
       "      <th>0</th>\n",
       "      <td>0637bf82c8b290c7875c5bfddbf91df5</td>\n",
       "      <td>Công an xã xử phạt lỗi không mang bằng lái xe ...</td>\n",
       "      <td>[{'law_id': '47/2011/tt-bca', 'article_id': '7'}]</td>\n",
       "      <td>14</td>\n",
       "      <td>1</td>\n",
       "      <td>['47/2011/tt-bca']</td>\n",
       "      <td>công_an xã xử_phạt lỗi không mang bằng lái_xe ...</td>\n",
       "      <td>[-0.2324966, -0.12793744, 0.1934652, -0.052565...</td>\n",
       "    </tr>\n",
       "    <tr>\n",
       "      <th>1</th>\n",
       "      <td>ade2b2ee4f5b869f75f0d183902382af</td>\n",
       "      <td>Phải thực hiện thao tác nạp mẫu vào bình chứa ...</td>\n",
       "      <td>[{'law_id': '41/2020/tt-bca', 'article_id': '1...</td>\n",
       "      <td>22</td>\n",
       "      <td>1</td>\n",
       "      <td>['41/2020/tt-bca']</td>\n",
       "      <td>phải thực_hiện thao_tác nạp mẫu vào bình chứa ...</td>\n",
       "      <td>[0.16954486, 0.042344127, 0.10091305, 0.300495...</td>\n",
       "    </tr>\n",
       "    <tr>\n",
       "      <th>2</th>\n",
       "      <td>8fa164edc7a8419cd7dc9ce66d8e695a</td>\n",
       "      <td>Trình tự đánh giá chất lượng hàng năm đối với ...</td>\n",
       "      <td>[{'law_id': '159/2020/nđ-cp', 'article_id': '1...</td>\n",
       "      <td>19</td>\n",
       "      <td>1</td>\n",
       "      <td>['159/2020/nđ-cp']</td>\n",
       "      <td>trình_tự đánh_giá chất_lượng hàng năm đối_với ...</td>\n",
       "      <td>[0.13073848, -0.1460132, 0.07958119, 0.1544274...</td>\n",
       "    </tr>\n",
       "    <tr>\n",
       "      <th>3</th>\n",
       "      <td>3aed91309b72097b34427dd28bebd98a</td>\n",
       "      <td>Tử tù chết sau khi tiêm thuốc độc mà không có ...</td>\n",
       "      <td>[{'law_id': '53/2010/qh12', 'article_id': '60'...</td>\n",
       "      <td>24</td>\n",
       "      <td>2</td>\n",
       "      <td>['53/2010/qh12', '82/2011/nđ-cp']</td>\n",
       "      <td>tử_tù chết sau khi tiêm thuốc_độc mà không có ...</td>\n",
       "      <td>[0.19101849, -0.010479315, 0.03856322, 0.04536...</td>\n",
       "    </tr>\n",
       "    <tr>\n",
       "      <th>4</th>\n",
       "      <td>fe9131a8862ce1bfa7de7e2b30eeb39e</td>\n",
       "      <td>Trách nhiệm của Bộ Khoa học và Công nghệ về qu...</td>\n",
       "      <td>[{'law_id': '63/2020/nđ-cp', 'article_id': '20'}]</td>\n",
       "      <td>25</td>\n",
       "      <td>1</td>\n",
       "      <td>['63/2020/nđ-cp']</td>\n",
       "      <td>trách_nhiệm của bộ khoa_học và công_nghệ về qu...</td>\n",
       "      <td>[-0.11314676, -0.003094151, 0.046920575, -0.04...</td>\n",
       "    </tr>\n",
       "    <tr>\n",
       "      <th>...</th>\n",
       "      <td>...</td>\n",
       "      <td>...</td>\n",
       "      <td>...</td>\n",
       "      <td>...</td>\n",
       "      <td>...</td>\n",
       "      <td>...</td>\n",
       "      <td>...</td>\n",
       "      <td>...</td>\n",
       "    </tr>\n",
       "    <tr>\n",
       "      <th>3191</th>\n",
       "      <td>bd2f979dabdf0033a00ff488b2893e12</td>\n",
       "      <td>Nội dung kiểm tra công tác nghiệm thu công trì...</td>\n",
       "      <td>[{'law_id': '06/2021/nđ-cp', 'article_id': '24'}]</td>\n",
       "      <td>23</td>\n",
       "      <td>1</td>\n",
       "      <td>['06/2021/nđ-cp']</td>\n",
       "      <td>nội_dung kiểm_tra công_tác nghiệm_thu công_trì...</td>\n",
       "      <td>[0.30675843, -0.18420339, -0.14305706, -0.0296...</td>\n",
       "    </tr>\n",
       "    <tr>\n",
       "      <th>3192</th>\n",
       "      <td>b7347919f2bd65a2da6f9d0b1728a51c</td>\n",
       "      <td>Mức phạt đối với hành vi chuyển mục đích sử dụ...</td>\n",
       "      <td>[{'law_id': '35/2019/nđ-cp', 'article_id': '12'}]</td>\n",
       "      <td>34</td>\n",
       "      <td>1</td>\n",
       "      <td>['35/2019/nđ-cp']</td>\n",
       "      <td>mức phạt đối_với hành_vi chuyển mục_đích sử_dụ...</td>\n",
       "      <td>[-0.05773743, -0.12715302, 0.18285303, -0.0276...</td>\n",
       "    </tr>\n",
       "    <tr>\n",
       "      <th>3193</th>\n",
       "      <td>bda416f28b8c88ce25604a26b01081cb</td>\n",
       "      <td>Trích xuất theo thi hành án hình sự được hiểu ...</td>\n",
       "      <td>[{'law_id': '41/2019/qh14', 'article_id': '3'}]</td>\n",
       "      <td>12</td>\n",
       "      <td>1</td>\n",
       "      <td>['41/2019/qh14']</td>\n",
       "      <td>trích_xuất theo thi_hành án hình_sự được hiểu ...</td>\n",
       "      <td>[-0.13125102, -0.05787519, 0.10784773, 0.06275...</td>\n",
       "    </tr>\n",
       "    <tr>\n",
       "      <th>3194</th>\n",
       "      <td>6088765b2e502c7d900a3f9a2f82f2b4</td>\n",
       "      <td>Chạy ô tô để dầu, nhờn rơi xuống đường phạt ba...</td>\n",
       "      <td>[{'law_id': '100/2019/nđ-cp', 'article_id': '2...</td>\n",
       "      <td>12</td>\n",
       "      <td>1</td>\n",
       "      <td>['100/2019/nđ-cp']</td>\n",
       "      <td>chạy ô_tô để dầu nhờn rơi xuống_đường phạt bao...</td>\n",
       "      <td>[-0.3036709, -0.2594247, -0.2621314, -0.074477...</td>\n",
       "    </tr>\n",
       "    <tr>\n",
       "      <th>3195</th>\n",
       "      <td>e3269fcc763ea92e5bab69ca67d88dd9</td>\n",
       "      <td>Tổ sát hạch cấp giấy phép lái tàu hỏa có bao n...</td>\n",
       "      <td>[{'law_id': '33/2018/tt-bgtvt', 'article_id': ...</td>\n",
       "      <td>14</td>\n",
       "      <td>1</td>\n",
       "      <td>['33/2018/tt-bgtvt']</td>\n",
       "      <td>tổ sát_hạch cấp giấy_phép lái tàu_hỏa có bao_n...</td>\n",
       "      <td>[-0.36808908, -0.032344498, -0.1395039, 0.0552...</td>\n",
       "    </tr>\n",
       "  </tbody>\n",
       "</table>\n",
       "<p>3196 rows × 8 columns</p>\n",
       "</div>"
      ],
      "text/plain": [
       "                           question_id  \\\n",
       "0     0637bf82c8b290c7875c5bfddbf91df5   \n",
       "1     ade2b2ee4f5b869f75f0d183902382af   \n",
       "2     8fa164edc7a8419cd7dc9ce66d8e695a   \n",
       "3     3aed91309b72097b34427dd28bebd98a   \n",
       "4     fe9131a8862ce1bfa7de7e2b30eeb39e   \n",
       "...                                ...   \n",
       "3191  bd2f979dabdf0033a00ff488b2893e12   \n",
       "3192  b7347919f2bd65a2da6f9d0b1728a51c   \n",
       "3193  bda416f28b8c88ce25604a26b01081cb   \n",
       "3194  6088765b2e502c7d900a3f9a2f82f2b4   \n",
       "3195  e3269fcc763ea92e5bab69ca67d88dd9   \n",
       "\n",
       "                                               question  \\\n",
       "0     Công an xã xử phạt lỗi không mang bằng lái xe ...   \n",
       "1     Phải thực hiện thao tác nạp mẫu vào bình chứa ...   \n",
       "2     Trình tự đánh giá chất lượng hàng năm đối với ...   \n",
       "3     Tử tù chết sau khi tiêm thuốc độc mà không có ...   \n",
       "4     Trách nhiệm của Bộ Khoa học và Công nghệ về qu...   \n",
       "...                                                 ...   \n",
       "3191  Nội dung kiểm tra công tác nghiệm thu công trì...   \n",
       "3192  Mức phạt đối với hành vi chuyển mục đích sử dụ...   \n",
       "3193  Trích xuất theo thi hành án hình sự được hiểu ...   \n",
       "3194  Chạy ô tô để dầu, nhờn rơi xuống đường phạt ba...   \n",
       "3195  Tổ sát hạch cấp giấy phép lái tàu hỏa có bao n...   \n",
       "\n",
       "                                      relevant_articles  question_length  \\\n",
       "0     [{'law_id': '47/2011/tt-bca', 'article_id': '7'}]               14   \n",
       "1     [{'law_id': '41/2020/tt-bca', 'article_id': '1...               22   \n",
       "2     [{'law_id': '159/2020/nđ-cp', 'article_id': '1...               19   \n",
       "3     [{'law_id': '53/2010/qh12', 'article_id': '60'...               24   \n",
       "4     [{'law_id': '63/2020/nđ-cp', 'article_id': '20'}]               25   \n",
       "...                                                 ...              ...   \n",
       "3191  [{'law_id': '06/2021/nđ-cp', 'article_id': '24'}]               23   \n",
       "3192  [{'law_id': '35/2019/nđ-cp', 'article_id': '12'}]               34   \n",
       "3193    [{'law_id': '41/2019/qh14', 'article_id': '3'}]               12   \n",
       "3194  [{'law_id': '100/2019/nđ-cp', 'article_id': '2...               12   \n",
       "3195  [{'law_id': '33/2018/tt-bgtvt', 'article_id': ...               14   \n",
       "\n",
       "      num_articles                    relevant_titles  \\\n",
       "0                1                 ['47/2011/tt-bca']   \n",
       "1                1                 ['41/2020/tt-bca']   \n",
       "2                1                 ['159/2020/nđ-cp']   \n",
       "3                2  ['53/2010/qh12', '82/2011/nđ-cp']   \n",
       "4                1                  ['63/2020/nđ-cp']   \n",
       "...            ...                                ...   \n",
       "3191             1                  ['06/2021/nđ-cp']   \n",
       "3192             1                  ['35/2019/nđ-cp']   \n",
       "3193             1                   ['41/2019/qh14']   \n",
       "3194             1                 ['100/2019/nđ-cp']   \n",
       "3195             1               ['33/2018/tt-bgtvt']   \n",
       "\n",
       "                                             bm25_query  \\\n",
       "0     công_an xã xử_phạt lỗi không mang bằng lái_xe ...   \n",
       "1     phải thực_hiện thao_tác nạp mẫu vào bình chứa ...   \n",
       "2     trình_tự đánh_giá chất_lượng hàng năm đối_với ...   \n",
       "3     tử_tù chết sau khi tiêm thuốc_độc mà không có ...   \n",
       "4     trách_nhiệm của bộ khoa_học và công_nghệ về qu...   \n",
       "...                                                 ...   \n",
       "3191  nội_dung kiểm_tra công_tác nghiệm_thu công_trì...   \n",
       "3192  mức phạt đối_với hành_vi chuyển mục_đích sử_dụ...   \n",
       "3193  trích_xuất theo thi_hành án hình_sự được hiểu ...   \n",
       "3194  chạy ô_tô để dầu nhờn rơi xuống_đường phạt bao...   \n",
       "3195  tổ sát_hạch cấp giấy_phép lái tàu_hỏa có bao_n...   \n",
       "\n",
       "                                                 vector  \n",
       "0     [-0.2324966, -0.12793744, 0.1934652, -0.052565...  \n",
       "1     [0.16954486, 0.042344127, 0.10091305, 0.300495...  \n",
       "2     [0.13073848, -0.1460132, 0.07958119, 0.1544274...  \n",
       "3     [0.19101849, -0.010479315, 0.03856322, 0.04536...  \n",
       "4     [-0.11314676, -0.003094151, 0.046920575, -0.04...  \n",
       "...                                                 ...  \n",
       "3191  [0.30675843, -0.18420339, -0.14305706, -0.0296...  \n",
       "3192  [-0.05773743, -0.12715302, 0.18285303, -0.0276...  \n",
       "3193  [-0.13125102, -0.05787519, 0.10784773, 0.06275...  \n",
       "3194  [-0.3036709, -0.2594247, -0.2621314, -0.074477...  \n",
       "3195  [-0.36808908, -0.032344498, -0.1395039, 0.0552...  \n",
       "\n",
       "[3196 rows x 8 columns]"
      ]
     },
     "execution_count": 10,
     "metadata": {},
     "output_type": "execute_result"
    }
   ],
   "source": [
    "qna = train_qna.copy()\n",
    "qna"
   ]
  },
  {
   "cell_type": "code",
   "execution_count": 11,
   "metadata": {},
   "outputs": [
    {
     "name": "stdout",
     "output_type": "stream",
     "text": [
      "INFO: Pandarallel will run on 4 workers.\n",
      "INFO: Pandarallel will use standard multiprocessing data transfer (pipe) to transfer data between the main process and workers.\n",
      "\n",
      "WARNING: You are on Windows. If you detect any issue with pandarallel, be sure you checked out the Troubleshooting page:\n",
      "https://nalepae.github.io/pandarallel/troubleshooting/\n"
     ]
    }
   ],
   "source": [
    "from pandarallel import pandarallel\n",
    "pandarallel.initialize(progress_bar=True, nb_workers=4)\n",
    "\n",
    "def bm25_func(x):\n",
    "    from bm25_utilities import get_top_relevance_ids_in_batches \n",
    "    import numpy as np \n",
    "    a = get_top_relevance_ids_in_batches(x.bm25_query, None, ranking=\"bm25\", unique=True)\n",
    "    return a\n",
    "\n",
    "def cos_sim_func(x): \n",
    "    from cos_sim_utilities import get_top_relevance_ids_in_batches  \n",
    "    a = get_top_relevance_ids_in_batches(None, x.vector, ranking=\"cos_sim\", unique=True)\n",
    "    return a\n",
    "\n",
    "def rrf_func(x): \n",
    "    from rrf_utilities import get_top_relevance_ids_in_batches \n",
    "    a = get_top_relevance_ids_in_batches(None, None, ranking=\"rrf\", bm25_ranking=x.bm25, cos_sim_ranking=x.cos_sim, unique=True)\n",
    "    return a\n",
    "     "
   ]
  },
  {
   "cell_type": "code",
   "execution_count": null,
   "metadata": {},
   "outputs": [],
   "source": [
    "# run only parts which are necessary"
   ]
  },
  {
   "cell_type": "code",
   "execution_count": 12,
   "metadata": {},
   "outputs": [],
   "source": [
    "qna[\"bm25_ranking\"] = qna.parallel_apply(bm25_func, axis = 1)"
   ]
  },
  {
   "cell_type": "code",
   "execution_count": 13,
   "metadata": {},
   "outputs": [],
   "source": [
    "rank = pd.DataFrame() "
   ]
  },
  {
   "cell_type": "code",
   "execution_count": 14,
   "metadata": {},
   "outputs": [],
   "source": [
    "rank['bm25'] = qna[\"bm25_ranking\"].copy()"
   ]
  },
  {
   "cell_type": "code",
   "execution_count": 15,
   "metadata": {},
   "outputs": [],
   "source": [
    "with open(\"bm25\", \"wb\") as out:\n",
    "    pickle.dump(rank, out)"
   ]
  },
  {
   "cell_type": "code",
   "execution_count": null,
   "metadata": {},
   "outputs": [],
   "source": [
    "# reset environment to free up memory"
   ]
  },
  {
   "cell_type": "code",
   "execution_count": 16,
   "metadata": {},
   "outputs": [],
   "source": [
    "qna = train_qna.copy()"
   ]
  },
  {
   "cell_type": "code",
   "execution_count": 17,
   "metadata": {},
   "outputs": [],
   "source": [
    "qna[\"cos_sim_ranking\"] = qna.progress_apply(cos_sim_func, axis = 1)"
   ]
  },
  {
   "cell_type": "code",
   "execution_count": 18,
   "metadata": {},
   "outputs": [],
   "source": [
    "rank['cos_sim'] = qna[\"cos_sim_ranking\"].copy()"
   ]
  },
  {
   "cell_type": "code",
   "execution_count": 19,
   "metadata": {},
   "outputs": [],
   "source": [
    "with open(\"cos_sim\", \"wb\") as out:\n",
    "    pickle.dump(rank, out)"
   ]
  },
  {
   "cell_type": "code",
   "execution_count": 20,
   "metadata": {},
   "outputs": [],
   "source": [
    "del rank"
   ]
  },
  {
   "cell_type": "code",
   "execution_count": null,
   "metadata": {},
   "outputs": [],
   "source": [
    "# reset environment to free up memory"
   ]
  },
  {
   "cell_type": "code",
   "execution_count": 21,
   "metadata": {},
   "outputs": [],
   "source": [
    "bm25_results = open(\"bm25\", \"rb\")\n",
    "cos_sim_results = open(\"cos_sim\", \"rb\")\n",
    "\n",
    "rank_1 = pickle.load(bm25_results)\n",
    "rank_2 = pickle.load(cos_sim_results)"
   ]
  },
  {
   "cell_type": "code",
   "execution_count": 22,
   "metadata": {},
   "outputs": [],
   "source": [
    "rank_1[\"cos_sim\"] = rank_2[\"cos_sim\"].copy()"
   ]
  },
  {
   "cell_type": "code",
   "execution_count": 23,
   "metadata": {},
   "outputs": [],
   "source": [
    "qna = qna.filter([\"relevant_articles\", \"relevant_titles\"])"
   ]
  },
  {
   "cell_type": "code",
   "execution_count": 24,
   "metadata": {},
   "outputs": [],
   "source": [
    "# qna[\"bm25\"] = rank_1[\"bm25\"]\n",
    "# qna[\"cos_sim\"] = rank_1[\"cos_sim\"]"
   ]
  },
  {
   "cell_type": "code",
   "execution_count": 25,
   "metadata": {},
   "outputs": [
    {
     "data": {
      "text/plain": [
       "20"
      ]
     },
     "execution_count": 25,
     "metadata": {},
     "output_type": "execute_result"
    }
   ],
   "source": [
    "import gc\n",
    "# del rank_1\n",
    "del rank_2\n",
    "del bm25_results\n",
    "del cos_sim_results\n",
    "gc.collect()"
   ]
  },
  {
   "cell_type": "code",
   "execution_count": 26,
   "metadata": {},
   "outputs": [
    {
     "name": "stderr",
     "output_type": "stream",
     "text": [
      "c:\\Users\\toant\\anaconda3\\envs\\nlp\\Lib\\site-packages\\numpy\\core\\fromnumeric.py:59: FutureWarning: 'DataFrame.swapaxes' is deprecated and will be removed in a future version. Please use 'DataFrame.transpose' instead.\n",
      "  return bound(*args, **kwds)\n"
     ]
    },
    {
     "data": {
      "application/vnd.jupyter.widget-view+json": {
       "model_id": "b695d9e62b494d2c9f59033f10b96193",
       "version_major": 2,
       "version_minor": 0
      },
      "text/plain": [
       "VBox(children=(HBox(children=(IntProgress(value=0, description='0.00%', max=73), Label(value='0 / 73'))), HBox…"
      ]
     },
     "metadata": {},
     "output_type": "display_data"
    },
    {
     "data": {
      "application/vnd.jupyter.widget-view+json": {
       "model_id": "e59816a1323740b98a176a5aa0cd3371",
       "version_major": 2,
       "version_minor": 0
      },
      "text/plain": [
       "VBox(children=(HBox(children=(IntProgress(value=0, description='0.00%', max=73), Label(value='0 / 73'))), HBox…"
      ]
     },
     "metadata": {},
     "output_type": "display_data"
    },
    {
     "data": {
      "application/vnd.jupyter.widget-view+json": {
       "model_id": "a6f61bcfe5f040589ad88207b5c34216",
       "version_major": 2,
       "version_minor": 0
      },
      "text/plain": [
       "VBox(children=(HBox(children=(IntProgress(value=0, description='0.00%', max=73), Label(value='0 / 73'))), HBox…"
      ]
     },
     "metadata": {},
     "output_type": "display_data"
    },
    {
     "data": {
      "application/vnd.jupyter.widget-view+json": {
       "model_id": "637e491a4ded490b8bb20ba83675296f",
       "version_major": 2,
       "version_minor": 0
      },
      "text/plain": [
       "VBox(children=(HBox(children=(IntProgress(value=0, description='0.00%', max=73), Label(value='0 / 73'))), HBox…"
      ]
     },
     "metadata": {},
     "output_type": "display_data"
    },
    {
     "data": {
      "application/vnd.jupyter.widget-view+json": {
       "model_id": "b1b51b5fe02943d1a6ca66ebed3c3ad5",
       "version_major": 2,
       "version_minor": 0
      },
      "text/plain": [
       "VBox(children=(HBox(children=(IntProgress(value=0, description='0.00%', max=73), Label(value='0 / 73'))), HBox…"
      ]
     },
     "metadata": {},
     "output_type": "display_data"
    },
    {
     "data": {
      "application/vnd.jupyter.widget-view+json": {
       "model_id": "3e0d6c9e07214d11aead6ee7f094f1b2",
       "version_major": 2,
       "version_minor": 0
      },
      "text/plain": [
       "VBox(children=(HBox(children=(IntProgress(value=0, description='0.00%', max=73), Label(value='0 / 73'))), HBox…"
      ]
     },
     "metadata": {},
     "output_type": "display_data"
    },
    {
     "data": {
      "application/vnd.jupyter.widget-view+json": {
       "model_id": "3a2187041d6a4e358464f20b2cd4f521",
       "version_major": 2,
       "version_minor": 0
      },
      "text/plain": [
       "VBox(children=(HBox(children=(IntProgress(value=0, description='0.00%', max=73), Label(value='0 / 73'))), HBox…"
      ]
     },
     "metadata": {},
     "output_type": "display_data"
    },
    {
     "data": {
      "application/vnd.jupyter.widget-view+json": {
       "model_id": "a578e96556894d7db2e9cd6d40679719",
       "version_major": 2,
       "version_minor": 0
      },
      "text/plain": [
       "VBox(children=(HBox(children=(IntProgress(value=0, description='0.00%', max=73), Label(value='0 / 73'))), HBox…"
      ]
     },
     "metadata": {},
     "output_type": "display_data"
    },
    {
     "data": {
      "application/vnd.jupyter.widget-view+json": {
       "model_id": "93653a3c6c9c452cbf1a1a70ac0a27ce",
       "version_major": 2,
       "version_minor": 0
      },
      "text/plain": [
       "VBox(children=(HBox(children=(IntProgress(value=0, description='0.00%', max=73), Label(value='0 / 73'))), HBox…"
      ]
     },
     "metadata": {},
     "output_type": "display_data"
    },
    {
     "data": {
      "application/vnd.jupyter.widget-view+json": {
       "model_id": "a80273f806b44d669ebd86f674791a77",
       "version_major": 2,
       "version_minor": 0
      },
      "text/plain": [
       "VBox(children=(HBox(children=(IntProgress(value=0, description='0.00%', max=73), Label(value='0 / 73'))), HBox…"
      ]
     },
     "metadata": {},
     "output_type": "display_data"
    },
    {
     "data": {
      "application/vnd.jupyter.widget-view+json": {
       "model_id": "d57c24c481d14f6583bcd057f9bc7808",
       "version_major": 2,
       "version_minor": 0
      },
      "text/plain": [
       "VBox(children=(HBox(children=(IntProgress(value=0, description='0.00%', max=73), Label(value='0 / 73'))), HBox…"
      ]
     },
     "metadata": {},
     "output_type": "display_data"
    }
   ],
   "source": [
    "n = 300\n",
    "list_df = np.array_split(rank_1, math.ceil(len(rank_1)/n))\n",
    "for i in list_df: \n",
    "    i[\"rr\"] = i.parallel_apply(rrf_func, axis = 1) "
   ]
  },
  {
   "cell_type": "code",
   "execution_count": 37,
   "metadata": {},
   "outputs": [],
   "source": [
    "del rank_1"
   ]
  },
  {
   "cell_type": "code",
   "execution_count": 38,
   "metadata": {},
   "outputs": [],
   "source": [
    "rank = pd.concat(list_df)"
   ]
  },
  {
   "cell_type": "code",
   "execution_count": 39,
   "metadata": {},
   "outputs": [],
   "source": [
    "del list_df"
   ]
  },
  {
   "cell_type": "code",
   "execution_count": 44,
   "metadata": {},
   "outputs": [],
   "source": [
    "rank_3 = rank['rr']"
   ]
  },
  {
   "cell_type": "code",
   "execution_count": 45,
   "metadata": {},
   "outputs": [],
   "source": [
    "with open(\"complete\", \"wb\") as out:\n",
    "    pickle.dump(rank_3, out)"
   ]
  }
 ],
 "metadata": {
  "kernelspec": {
   "display_name": "nlp",
   "language": "python",
   "name": "python3"
  },
  "language_info": {
   "codemirror_mode": {
    "name": "ipython",
    "version": 3
   },
   "file_extension": ".py",
   "mimetype": "text/x-python",
   "name": "python",
   "nbconvert_exporter": "python",
   "pygments_lexer": "ipython3",
   "version": "3.11.8"
  }
 },
 "nbformat": 4,
 "nbformat_minor": 2
}
