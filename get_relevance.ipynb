{
 "cells": [
  {
   "cell_type": "code",
   "execution_count": 1,
   "metadata": {},
   "outputs": [],
   "source": [
    "import pandas as pd\n",
    "train_qna = pd.read_csv(\"input/train_qna.csv\")\n",
    "bm25_train_qna = pd.read_hdf(\"bm25_train_qna.h5\")\n",
    "cos_sim_train_qna = pd.read_hdf(\"cos_sim_train_qna_encode.h5\")\n",
    "train_qna['bm25_query'] = bm25_train_qna['bm25_query']\n",
    "train_qna['vector'] = cos_sim_train_qna['vector']"
   ]
  },
  {
   "cell_type": "code",
   "execution_count": 2,
   "metadata": {},
   "outputs": [],
   "source": [
    "qna = train_qna.copy()\n",
    "qna = qna.filter([\"relevant_articles\", \"relevant_titles\"])"
   ]
  },
  {
   "cell_type": "code",
   "execution_count": 3,
   "metadata": {},
   "outputs": [
    {
     "name": "stdout",
     "output_type": "stream",
     "text": [
      "INFO: Pandarallel will run on 4 workers.\n",
      "INFO: Pandarallel will use standard multiprocessing data transfer (pipe) to transfer data between the main process and workers.\n",
      "\n",
      "WARNING: You are on Windows. If you detect any issue with pandarallel, be sure you checked out the Troubleshooting page:\n",
      "https://nalepae.github.io/pandarallel/troubleshooting/\n"
     ]
    }
   ],
   "source": [
    "from pandarallel import pandarallel\n",
    "pandarallel.initialize(progress_bar=True, nb_workers=4)"
   ]
  },
  {
   "cell_type": "code",
   "execution_count": 4,
   "metadata": {},
   "outputs": [],
   "source": [
    "\"\"\" Iteratively choose 1 line and comment out the rest \"\"\"\n",
    "# bm25_results = open(\"bm25\", \"rb\")\n",
    "# cos_sim_results = open(\"cos_sim\", \"rb\")\n",
    "rrf_results = open(\"complete\", \"rb\")"
   ]
  },
  {
   "cell_type": "code",
   "execution_count": 5,
   "metadata": {},
   "outputs": [],
   "source": [
    "import pickle\n",
    "rank = pickle.load(rrf_results)"
   ]
  },
  {
   "cell_type": "code",
   "execution_count": 6,
   "metadata": {},
   "outputs": [
    {
     "data": {
      "text/plain": [
       "0       [105902, 68242, 203317, 61277, 61312, 105870, ...\n",
       "1       [277981, 277982, 277983, 277974, 277963, 27798...\n",
       "2       [146474, 146669, 146449, 372602, 146473, 14644...\n",
       "3       [194673, 69905, 239384, 28266, 345484, 239381,...\n",
       "4       [331828, 68028, 331850, 331742, 68042, 353997,...\n",
       "                              ...                        \n",
       "3191    [39643, 39430, 39959, 39651, 39640, 39639, 211...\n",
       "3192    [252948, 252956, 252965, 253044, 252711, 25305...\n",
       "3193    [277683, 112095, 276604, 76360, 76358, 75019, ...\n",
       "3194    [317621, 124249, 124253, 155918, 124252, 61425...\n",
       "3195    [246200, 246181, 176344, 77749, 278694, 347943...\n",
       "Name: rr, Length: 3196, dtype: object"
      ]
     },
     "execution_count": 6,
     "metadata": {},
     "output_type": "execute_result"
    }
   ],
   "source": [
    "rank"
   ]
  },
  {
   "cell_type": "code",
   "execution_count": 7,
   "metadata": {},
   "outputs": [],
   "source": [
    "qna[\"ranking\"] = rank # Edit this appropriately\n",
    "del rank"
   ]
  },
  {
   "cell_type": "code",
   "execution_count": 8,
   "metadata": {},
   "outputs": [],
   "source": [
    "def get_top_k_relevance_func(x):\n",
    "    from rrf_utilities import get_top_k_relevance, bm25_corpus\n",
    "    corpus_lookup = bm25_corpus['law_article']\n",
    "    return get_top_k_relevance(x.ranking, corpus_look_up = corpus_lookup, unique=True, k = 10)"
   ]
  },
  {
   "cell_type": "code",
   "execution_count": 9,
   "metadata": {},
   "outputs": [],
   "source": [
    "# qna.relevant_articles"
   ]
  },
  {
   "cell_type": "code",
   "execution_count": 10,
   "metadata": {},
   "outputs": [
    {
     "data": {
      "application/vnd.jupyter.widget-view+json": {
       "model_id": "713a579ca0c3426da668ec1575b7ab4c",
       "version_major": 2,
       "version_minor": 0
      },
      "text/plain": [
       "VBox(children=(HBox(children=(IntProgress(value=0, description='0.00%', max=799), Label(value='0 / 799'))), HB…"
      ]
     },
     "metadata": {},
     "output_type": "display_data"
    }
   ],
   "source": [
    "qna[\"relevant\"] = qna.parallel_apply(get_top_k_relevance_func, axis = 1)"
   ]
  },
  {
   "cell_type": "code",
   "execution_count": null,
   "metadata": {},
   "outputs": [],
   "source": [
    "import ast\n",
    "\n",
    "def precision(predicted, relevant): \n",
    "    if type(predicted).__name__ == \"str\":\n",
    "        predicted = [str(i) for i in ast.literal_eval(predicted)]\n",
    "    if type(relevant).__name__ == \"str\": \n",
    "        relevant = [str(i) for i in ast.literal_eval(relevant)] \n",
    "    \n",
    "    return len(set(predicted).intersection(set(relevant)))/len(predicted) if len(predicted) > 0 else 0\n",
    "\n",
    "def recall(predicted, relevant):\n",
    "    if type(predicted).__name__ == \"str\":\n",
    "        predicted = [str(i) for i in ast.literal_eval(predicted)]\n",
    "    if type(relevant).__name__ == \"str\":\n",
    "        relevant = [str(i) for i in ast.literal_eval(relevant)]\n",
    "    \n",
    "    return len(set(predicted).intersection(set(relevant)))/len(relevant) if len(relevant) > 0 else 0 "
   ]
  },
  {
   "cell_type": "code",
   "execution_count": null,
   "metadata": {},
   "outputs": [],
   "source": [
    "def f1_score(precision, recall):\n",
    "    return (2*precision*recall)/(precision + recall) if precision + recall > 0 else 0\n",
    "\n",
    "def f2_score(precision, recall):\n",
    "    return (5*precision*recall)/(4*precision + recall) if precision + recall > 0 else 0"
   ]
  },
  {
   "cell_type": "code",
   "execution_count": null,
   "metadata": {},
   "outputs": [],
   "source": [
    "def get_indicator(predicted, relevant): \n",
    "\n",
    "    return [1 if i in relevant else 0 for i in predicted]\n",
    "\n",
    "def ave_p(predicted, relevant):\n",
    "\n",
    "    if type(predicted).__name__ == \"str\":\n",
    "        predicted = [str(i) for i in ast.literal_eval(predicted)]\n",
    "    if type(relevant).__name__ == \"str\": \n",
    "        relevant = [str(i) for i in ast.literal_eval(relevant)] \n",
    "\n",
    "    relevant = set(relevant)\n",
    "\n",
    "    indicator = get_indicator(predicted, relevant)\n",
    "    avp = 0\n",
    "    \n",
    "    for i in range(len(predicted)):\n",
    "        avp += (precision(predicted[:i + 1], relevant)*indicator[i])\n",
    "    \n",
    "    avp = avp/len(relevant) if len(relevant) > 0 else 0\n",
    "    return avp "
   ]
  },
  {
   "cell_type": "code",
   "execution_count": null,
   "metadata": {},
   "outputs": [],
   "source": [
    "import math\n",
    "\n",
    "def get_relevance(predicted, relevant): \n",
    "\n",
    "    return [1 if i in relevant else 0 for i in predicted]\n",
    "\n",
    "def non_DCG(predicted, relevant):\n",
    "    if type(predicted).__name__ == \"str\":\n",
    "        predicted = [str(i) for i in ast.literal_eval(predicted)]\n",
    "    if type(relevant).__name__ == \"str\": \n",
    "        relevant = [str(i) for i in ast.literal_eval(relevant)] \n",
    "\n",
    "    relevant = set(relevant)\n",
    "\n",
    "    relevance = get_relevance(predicted, relevant)\n",
    "    ideal_relevance = sorted(relevance, reverse=True)\n",
    "\n",
    "    dcg = 0\n",
    "    idcg = 0\n",
    "\n",
    "    for i in range(1, len(relevance) + 1):\n",
    "        rel_i = relevance[i-1]\n",
    "        irel_i = ideal_relevance[i-1]\n",
    "\n",
    "        dcg += rel_i / math.log(1 + i,2)\n",
    "        idcg += irel_i / math.log(1 + i,2)\n",
    "\n",
    "    ndcg = dcg/idcg if idcg > 0 else 0\n",
    "\n",
    "    return ndcg "
   ]
  },
  {
   "cell_type": "code",
   "execution_count": null,
   "metadata": {},
   "outputs": [],
   "source": [
    "from tqdm.auto import tqdm\n",
    "tqdm.pandas()"
   ]
  },
  {
   "cell_type": "code",
   "execution_count": null,
   "metadata": {},
   "outputs": [
    {
     "data": {
      "application/vnd.jupyter.widget-view+json": {
       "model_id": "bd4f909c98c54a32ad49897de87569a2",
       "version_major": 2,
       "version_minor": 0
      },
      "text/plain": [
       "  0%|          | 0/3196 [00:00<?, ?it/s]"
      ]
     },
     "metadata": {},
     "output_type": "display_data"
    },
    {
     "data": {
      "application/vnd.jupyter.widget-view+json": {
       "model_id": "c634dd11dba64afea2a43af8e7669edd",
       "version_major": 2,
       "version_minor": 0
      },
      "text/plain": [
       "  0%|          | 0/3196 [00:00<?, ?it/s]"
      ]
     },
     "metadata": {},
     "output_type": "display_data"
    },
    {
     "data": {
      "application/vnd.jupyter.widget-view+json": {
       "model_id": "d48492fd174c43d2931b4947dd07f916",
       "version_major": 2,
       "version_minor": 0
      },
      "text/plain": [
       "  0%|          | 0/3196 [00:00<?, ?it/s]"
      ]
     },
     "metadata": {},
     "output_type": "display_data"
    },
    {
     "data": {
      "application/vnd.jupyter.widget-view+json": {
       "model_id": "6bf5c359c82943e795fd2c8e7c76f8f5",
       "version_major": 2,
       "version_minor": 0
      },
      "text/plain": [
       "  0%|          | 0/3196 [00:00<?, ?it/s]"
      ]
     },
     "metadata": {},
     "output_type": "display_data"
    },
    {
     "data": {
      "application/vnd.jupyter.widget-view+json": {
       "model_id": "52abafd95028469b907a1ce719309994",
       "version_major": 2,
       "version_minor": 0
      },
      "text/plain": [
       "  0%|          | 0/3196 [00:00<?, ?it/s]"
      ]
     },
     "metadata": {},
     "output_type": "display_data"
    },
    {
     "data": {
      "application/vnd.jupyter.widget-view+json": {
       "model_id": "8afdd407129043d8bdb0253a0b0988e5",
       "version_major": 2,
       "version_minor": 0
      },
      "text/plain": [
       "  0%|          | 0/3196 [00:00<?, ?it/s]"
      ]
     },
     "metadata": {},
     "output_type": "display_data"
    },
    {
     "name": "stdout",
     "output_type": "stream",
     "text": [
      "mean_avp: 0.6382613890709948\n",
      "mean_recall: 0.8711931581143094\n",
      "mean_f1_score: 0.16129062843706152\n",
      "mean_f2_score: 0.3148709516043684\n",
      "mean_ndcg: 0.6996295865909636\n"
     ]
    }
   ],
   "source": [
    "qna['precision'] = qna.progress_apply(lambda x: precision(x.relevant, x.relevant_articles), axis = 1) \n",
    "qna['recall'] = qna.progress_apply(lambda x: recall(x.relevant, x.relevant_articles), axis = 1) \n",
    "\n",
    "qna['f1_score'] = qna.progress_apply(lambda x: f1_score(x.precision, x.recall), axis = 1) \n",
    "qna['f2_score'] = qna.progress_apply(lambda x: f2_score(x.precision, x.recall), axis = 1) \n",
    "\n",
    "qna['ave_p'] = qna.progress_apply(lambda x: ave_p(x.relevant, x.relevant_articles), axis = 1) \n",
    "\n",
    "qna['ndcg'] = qna.progress_apply(lambda x: non_DCG(x.relevant, x.relevant_articles), axis = 1) \n",
    "\n",
    "print(\"mean_avp: \" + str(qna['ave_p'].mean()))\n",
    "print(\"mean_recall: \" + str(qna['recall'].mean())) \n",
    "print(\"mean_f1_score: \" + str(qna['f1_score'].mean())) \n",
    "print(\"mean_f2_score: \" + str(qna['f2_score'].mean())) \n",
    "print(\"mean_ndcg: \" + str(qna['ndcg'].mean())) "
   ]
  },
  {
   "cell_type": "code",
   "execution_count": null,
   "metadata": {},
   "outputs": [],
   "source": [
    "qna = qna.drop(columns=[\"ranking\"])"
   ]
  },
  {
   "cell_type": "code",
   "execution_count": null,
   "metadata": {},
   "outputs": [
    {
     "data": {
      "text/html": [
       "<div>\n",
       "<style scoped>\n",
       "    .dataframe tbody tr th:only-of-type {\n",
       "        vertical-align: middle;\n",
       "    }\n",
       "\n",
       "    .dataframe tbody tr th {\n",
       "        vertical-align: top;\n",
       "    }\n",
       "\n",
       "    .dataframe thead th {\n",
       "        text-align: right;\n",
       "    }\n",
       "</style>\n",
       "<table border=\"1\" class=\"dataframe\">\n",
       "  <thead>\n",
       "    <tr style=\"text-align: right;\">\n",
       "      <th></th>\n",
       "      <th>relevant_articles</th>\n",
       "      <th>relevant_titles</th>\n",
       "      <th>relevant</th>\n",
       "      <th>precision</th>\n",
       "      <th>recall</th>\n",
       "      <th>f1_score</th>\n",
       "      <th>f2_score</th>\n",
       "      <th>ave_p</th>\n",
       "      <th>ndcg</th>\n",
       "    </tr>\n",
       "  </thead>\n",
       "  <tbody>\n",
       "    <tr>\n",
       "      <th>0</th>\n",
       "      <td>[{'law_id': '47/2011/tt-bca', 'article_id': '7'}]</td>\n",
       "      <td>['47/2011/tt-bca']</td>\n",
       "      <td>[{'law_id': '12/2010/tt-bca', 'article_id': '1...</td>\n",
       "      <td>0.0</td>\n",
       "      <td>0.0</td>\n",
       "      <td>0.000000</td>\n",
       "      <td>0.000000</td>\n",
       "      <td>0.000000</td>\n",
       "      <td>0.000000</td>\n",
       "    </tr>\n",
       "    <tr>\n",
       "      <th>1</th>\n",
       "      <td>[{'law_id': '41/2020/tt-bca', 'article_id': '1...</td>\n",
       "      <td>['41/2020/tt-bca']</td>\n",
       "      <td>[{'law_id': '41/2020/tt-bca', 'article_id': '1...</td>\n",
       "      <td>0.1</td>\n",
       "      <td>1.0</td>\n",
       "      <td>0.181818</td>\n",
       "      <td>0.357143</td>\n",
       "      <td>1.000000</td>\n",
       "      <td>1.000000</td>\n",
       "    </tr>\n",
       "    <tr>\n",
       "      <th>2</th>\n",
       "      <td>[{'law_id': '159/2020/nđ-cp', 'article_id': '1...</td>\n",
       "      <td>['159/2020/nđ-cp']</td>\n",
       "      <td>[{'law_id': '159/2020/nđ-cp', 'article_id': '1...</td>\n",
       "      <td>0.1</td>\n",
       "      <td>1.0</td>\n",
       "      <td>0.181818</td>\n",
       "      <td>0.357143</td>\n",
       "      <td>1.000000</td>\n",
       "      <td>1.000000</td>\n",
       "    </tr>\n",
       "    <tr>\n",
       "      <th>3</th>\n",
       "      <td>[{'law_id': '53/2010/qh12', 'article_id': '60'...</td>\n",
       "      <td>['53/2010/qh12', '82/2011/nđ-cp']</td>\n",
       "      <td>[{'law_id': '20/2021/nđ-cp', 'article_id': '11...</td>\n",
       "      <td>0.0</td>\n",
       "      <td>0.0</td>\n",
       "      <td>0.000000</td>\n",
       "      <td>0.000000</td>\n",
       "      <td>0.000000</td>\n",
       "      <td>0.000000</td>\n",
       "    </tr>\n",
       "    <tr>\n",
       "      <th>4</th>\n",
       "      <td>[{'law_id': '63/2020/nđ-cp', 'article_id': '20'}]</td>\n",
       "      <td>['63/2020/nđ-cp']</td>\n",
       "      <td>[{'law_id': '63/2020/nđ-cp', 'article_id': '19...</td>\n",
       "      <td>0.1</td>\n",
       "      <td>1.0</td>\n",
       "      <td>0.181818</td>\n",
       "      <td>0.357143</td>\n",
       "      <td>0.333333</td>\n",
       "      <td>0.500000</td>\n",
       "    </tr>\n",
       "    <tr>\n",
       "      <th>...</th>\n",
       "      <td>...</td>\n",
       "      <td>...</td>\n",
       "      <td>...</td>\n",
       "      <td>...</td>\n",
       "      <td>...</td>\n",
       "      <td>...</td>\n",
       "      <td>...</td>\n",
       "      <td>...</td>\n",
       "      <td>...</td>\n",
       "    </tr>\n",
       "    <tr>\n",
       "      <th>3191</th>\n",
       "      <td>[{'law_id': '06/2021/nđ-cp', 'article_id': '24'}]</td>\n",
       "      <td>['06/2021/nđ-cp']</td>\n",
       "      <td>[{'law_id': '06/2021/nđ-cp', 'article_id': '24...</td>\n",
       "      <td>0.1</td>\n",
       "      <td>1.0</td>\n",
       "      <td>0.181818</td>\n",
       "      <td>0.357143</td>\n",
       "      <td>1.000000</td>\n",
       "      <td>1.000000</td>\n",
       "    </tr>\n",
       "    <tr>\n",
       "      <th>3192</th>\n",
       "      <td>[{'law_id': '35/2019/nđ-cp', 'article_id': '12'}]</td>\n",
       "      <td>['35/2019/nđ-cp']</td>\n",
       "      <td>[{'law_id': '35/2019/nđ-cp', 'article_id': '17...</td>\n",
       "      <td>0.1</td>\n",
       "      <td>1.0</td>\n",
       "      <td>0.181818</td>\n",
       "      <td>0.357143</td>\n",
       "      <td>0.333333</td>\n",
       "      <td>0.500000</td>\n",
       "    </tr>\n",
       "    <tr>\n",
       "      <th>3193</th>\n",
       "      <td>[{'law_id': '41/2019/qh14', 'article_id': '3'}]</td>\n",
       "      <td>['41/2019/qh14']</td>\n",
       "      <td>[{'law_id': '41/2019/qh14', 'article_id': '167...</td>\n",
       "      <td>0.1</td>\n",
       "      <td>1.0</td>\n",
       "      <td>0.181818</td>\n",
       "      <td>0.357143</td>\n",
       "      <td>0.142857</td>\n",
       "      <td>0.333333</td>\n",
       "    </tr>\n",
       "    <tr>\n",
       "      <th>3194</th>\n",
       "      <td>[{'law_id': '100/2019/nđ-cp', 'article_id': '2...</td>\n",
       "      <td>['100/2019/nđ-cp']</td>\n",
       "      <td>[{'law_id': '57/2010/qh12', 'article_id': '3'}...</td>\n",
       "      <td>0.0</td>\n",
       "      <td>0.0</td>\n",
       "      <td>0.000000</td>\n",
       "      <td>0.000000</td>\n",
       "      <td>0.000000</td>\n",
       "      <td>0.000000</td>\n",
       "    </tr>\n",
       "    <tr>\n",
       "      <th>3195</th>\n",
       "      <td>[{'law_id': '33/2018/tt-bgtvt', 'article_id': ...</td>\n",
       "      <td>['33/2018/tt-bgtvt']</td>\n",
       "      <td>[{'law_id': '33/2018/tt-bgtvt', 'article_id': ...</td>\n",
       "      <td>0.1</td>\n",
       "      <td>1.0</td>\n",
       "      <td>0.181818</td>\n",
       "      <td>0.357143</td>\n",
       "      <td>1.000000</td>\n",
       "      <td>1.000000</td>\n",
       "    </tr>\n",
       "  </tbody>\n",
       "</table>\n",
       "<p>3196 rows × 9 columns</p>\n",
       "</div>"
      ],
      "text/plain": [
       "                                      relevant_articles  \\\n",
       "0     [{'law_id': '47/2011/tt-bca', 'article_id': '7'}]   \n",
       "1     [{'law_id': '41/2020/tt-bca', 'article_id': '1...   \n",
       "2     [{'law_id': '159/2020/nđ-cp', 'article_id': '1...   \n",
       "3     [{'law_id': '53/2010/qh12', 'article_id': '60'...   \n",
       "4     [{'law_id': '63/2020/nđ-cp', 'article_id': '20'}]   \n",
       "...                                                 ...   \n",
       "3191  [{'law_id': '06/2021/nđ-cp', 'article_id': '24'}]   \n",
       "3192  [{'law_id': '35/2019/nđ-cp', 'article_id': '12'}]   \n",
       "3193    [{'law_id': '41/2019/qh14', 'article_id': '3'}]   \n",
       "3194  [{'law_id': '100/2019/nđ-cp', 'article_id': '2...   \n",
       "3195  [{'law_id': '33/2018/tt-bgtvt', 'article_id': ...   \n",
       "\n",
       "                        relevant_titles  \\\n",
       "0                    ['47/2011/tt-bca']   \n",
       "1                    ['41/2020/tt-bca']   \n",
       "2                    ['159/2020/nđ-cp']   \n",
       "3     ['53/2010/qh12', '82/2011/nđ-cp']   \n",
       "4                     ['63/2020/nđ-cp']   \n",
       "...                                 ...   \n",
       "3191                  ['06/2021/nđ-cp']   \n",
       "3192                  ['35/2019/nđ-cp']   \n",
       "3193                   ['41/2019/qh14']   \n",
       "3194                 ['100/2019/nđ-cp']   \n",
       "3195               ['33/2018/tt-bgtvt']   \n",
       "\n",
       "                                               relevant  precision  recall  \\\n",
       "0     [{'law_id': '12/2010/tt-bca', 'article_id': '1...        0.0     0.0   \n",
       "1     [{'law_id': '41/2020/tt-bca', 'article_id': '1...        0.1     1.0   \n",
       "2     [{'law_id': '159/2020/nđ-cp', 'article_id': '1...        0.1     1.0   \n",
       "3     [{'law_id': '20/2021/nđ-cp', 'article_id': '11...        0.0     0.0   \n",
       "4     [{'law_id': '63/2020/nđ-cp', 'article_id': '19...        0.1     1.0   \n",
       "...                                                 ...        ...     ...   \n",
       "3191  [{'law_id': '06/2021/nđ-cp', 'article_id': '24...        0.1     1.0   \n",
       "3192  [{'law_id': '35/2019/nđ-cp', 'article_id': '17...        0.1     1.0   \n",
       "3193  [{'law_id': '41/2019/qh14', 'article_id': '167...        0.1     1.0   \n",
       "3194  [{'law_id': '57/2010/qh12', 'article_id': '3'}...        0.0     0.0   \n",
       "3195  [{'law_id': '33/2018/tt-bgtvt', 'article_id': ...        0.1     1.0   \n",
       "\n",
       "      f1_score  f2_score     ave_p      ndcg  \n",
       "0     0.000000  0.000000  0.000000  0.000000  \n",
       "1     0.181818  0.357143  1.000000  1.000000  \n",
       "2     0.181818  0.357143  1.000000  1.000000  \n",
       "3     0.000000  0.000000  0.000000  0.000000  \n",
       "4     0.181818  0.357143  0.333333  0.500000  \n",
       "...        ...       ...       ...       ...  \n",
       "3191  0.181818  0.357143  1.000000  1.000000  \n",
       "3192  0.181818  0.357143  0.333333  0.500000  \n",
       "3193  0.181818  0.357143  0.142857  0.333333  \n",
       "3194  0.000000  0.000000  0.000000  0.000000  \n",
       "3195  0.181818  0.357143  1.000000  1.000000  \n",
       "\n",
       "[3196 rows x 9 columns]"
      ]
     },
     "execution_count": 18,
     "metadata": {},
     "output_type": "execute_result"
    }
   ],
   "source": [
    "qna"
   ]
  },
  {
   "cell_type": "code",
   "execution_count": null,
   "metadata": {},
   "outputs": [],
   "source": [
    "with open(\"rrf_results_unique\", \"wb\") as out:\n",
    "    pickle.dump(qna, out)"
   ]
  },
  {
   "cell_type": "code",
   "execution_count": null,
   "metadata": {},
   "outputs": [
    {
     "data": {
      "text/plain": [
       "'\\nbm25:\\n    mean_avp: 0.5154628843263073\\n    mean_recall: 0.757770129328327\\n    mean_f1_score: 0.1399954342695269\\n    mean_f2_score: 0.27350769450268825\\n    mean_ndcg: 0.5785190622027508\\n\\ncos_sim:\\n    mean_avp: 0.6568568473488686\\n    mean_recall: 0.8622236128493951\\n    mean_f1_score: 0.15960145403199225\\n    mean_f2_score: 0.3115998172318573\\n    mean_ndcg: 0.7118466041872631\\n'"
      ]
     },
     "execution_count": 20,
     "metadata": {},
     "output_type": "execute_result"
    }
   ],
   "source": [
    "\"\"\"\n",
    "bm25:\n",
    "    mean_avp: 0.5154628843263073\n",
    "    mean_recall: 0.757770129328327\n",
    "    mean_f1_score: 0.1399954342695269\n",
    "    mean_f2_score: 0.27350769450268825\n",
    "    mean_ndcg: 0.5785190622027508\n",
    "\n",
    "cos_sim:\n",
    "    mean_avp: 0.6568568473488686\n",
    "    mean_recall: 0.8622236128493951\n",
    "    mean_f1_score: 0.15960145403199225\n",
    "    mean_f2_score: 0.3115998172318573\n",
    "    mean_ndcg: 0.7118466041872631\n",
    "\n",
    "rrf:\n",
    "    mean_avp: 0.6382613890709948\n",
    "    mean_recall: 0.8711931581143094\n",
    "    mean_f1_score: 0.16129062843706152\n",
    "    mean_f2_score: 0.3148709516043684\n",
    "    mean_ndcg: 0.6996295865909636\n",
    "\"\"\""
   ]
  }
 ],
 "metadata": {
  "kernelspec": {
   "display_name": "nlp",
   "language": "python",
   "name": "python3"
  },
  "language_info": {
   "codemirror_mode": {
    "name": "ipython",
    "version": 3
   },
   "file_extension": ".py",
   "mimetype": "text/x-python",
   "name": "python",
   "nbconvert_exporter": "python",
   "pygments_lexer": "ipython3",
   "version": "3.11.8"
  }
 },
 "nbformat": 4,
 "nbformat_minor": 2
}
